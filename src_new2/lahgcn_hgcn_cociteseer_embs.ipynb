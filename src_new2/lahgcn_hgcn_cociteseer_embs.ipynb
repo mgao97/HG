{
 "cells": [
  {
   "cell_type": "markdown",
   "metadata": {},
   "source": [
    "#### Figure 1 节点邻居数分布，HGNN和我们方法的效果对比"
   ]
  },
  {
   "cell_type": "code",
   "execution_count": 1,
   "metadata": {},
   "outputs": [
    {
     "name": "stderr",
     "output_type": "stream",
     "text": [
      "/users/Min/miniconda/envs/hy/lib/python3.9/site-packages/tqdm/auto.py:21: TqdmWarning: IProgress not found. Please update jupyter and ipywidgets. See https://ipywidgets.readthedocs.io/en/stable/user_install.html\n",
      "  from .autonotebook import tqdm as notebook_tqdm\n"
     ]
    }
   ],
   "source": [
    "from __future__ import division\n",
    "from __future__ import print_function\n",
    "import argparse\n",
    "import numpy as np\n",
    "import scipy.sparse as sp\n",
    "import torch\n",
    "import sys\n",
    "import copy\n",
    "import random\n",
    "import torch.nn.functional as F\n",
    "import torch.optim as optim\n",
    "import hgnn_cvae_pretrain_new_cora\n",
    "import matplotlib.pyplot as plt\n",
    "from sklearn.metrics import accuracy_score, f1_score\n",
    "import time\n",
    "from copy import deepcopy\n",
    "# from config import config\n",
    "import torch\n",
    "import torch.optim as optim\n",
    "import torch.nn.functional as F\n",
    "import numpy as np\n",
    "import torch\n",
    "import torch.optim as optim\n",
    "import torch.nn.functional as F\n",
    "import matplotlib.pyplot as plt\n",
    "from sklearn.metrics import accuracy_score, f1_score\n",
    "# import matplotlib.pyplot as plt\n",
    "# from sklearn.metrics import accuracy_score, f1_score\n",
    "from dhg import Hypergraph\n",
    "from dhg.data import *\n",
    "from dhg.models import *\n",
    "from dhg.random import set_seed\n",
    "from sklearn.model_selection import train_test_split\n",
    "\n",
    "from hgcn.models import HGNN, LAHGCN\n",
    "import matplotlib.pyplot as plt\n",
    "from sklearn.metrics import accuracy_score, f1_score\n",
    "\n",
    "\n",
    "import pandas as pd\n",
    "import seaborn as sns\n",
    "from sklearn.decomposition import PCA\n",
    "from sklearn.manifold import TSNE\n",
    "import warnings\n",
    "warnings.filterwarnings(\"ignore\")\n",
    "from dhg import Hypergraph\n",
    "from dhg.data import *\n",
    "# from data_load_utils import *\n",
    "# from dhg.models import HGNN, LAHGCN\n",
    "# from dhg.random import set_seed\n",
    "from dhg.metrics import HypergraphVertexClassificationEvaluator as Evaluator\n",
    "\n",
    "from utils import accuracy, normalize_features, micro_f1, macro_f1, sparse_mx_to_torch_sparse_tensor, normalize_adj\n",
    "from hgcn import *\n",
    "from hgcn.models import HGNN, LAHGCN\n",
    "from tqdm import trange\n",
    "from torch.utils.data import TensorDataset, DataLoader, RandomSampler\n",
    "exc_path = sys.path[0]\n",
    "import os, torch, numpy as np\n",
    "import hgnn_cvae_pretrain_new_coauthorcora\n",
    "from sklearn.metrics import f1_score\n",
    "from sklearn.model_selection import train_test_split\n"
   ]
  },
  {
   "cell_type": "code",
   "execution_count": 20,
   "metadata": {},
   "outputs": [
    {
     "name": "stdout",
     "output_type": "stream",
     "text": [
      "hypergraph: Hypergraph(num_v=3312, num_e=1004)\n",
      "adjacent matrix: tensor(indices=tensor([[   0,    0,    0,  ..., 3305, 3305, 3305],\n",
      "                       [ 540,  290,  691,  ..., 3021, 2654, 2169]]),\n",
      "       values=tensor([1., 1., 1.,  ..., 1., 1., 1.]),\n",
      "       size=(3312, 3312), nnz=10072, layout=torch.sparse_coo)\n"
     ]
    },
    {
     "data": {
      "text/plain": [
       "(0, 449, 4.488224637681159)"
      ]
     },
     "execution_count": 20,
     "metadata": {},
     "output_type": "execute_result"
    }
   ],
   "source": [
    "data = CocitationCiteseer()\n",
    "G = Hypergraph(data[\"num_vertices\"], data[\"edge_list\"])\n",
    "print('hypergraph:', G)\n",
    "\n",
    "\n",
    "A = G.H @ G.H.T\n",
    "print('adjacent matrix:', A)\n",
    "\n",
    "# 将稀疏张量转换为标准的邻接矩阵表示\n",
    "adj_matrix = torch.sparse_coo_tensor(A.indices(), A.values(), A.size())\n",
    "\n",
    "# 计算每个节点的度（关联的邻居节点数）\n",
    "degree_list = adj_matrix.to_dense().sum(dim=1)\n",
    "degree_list = degree_list.cpu().numpy().tolist()\n",
    "degree_list = [int(i) for i in degree_list]\n",
    "\n",
    "min(degree_list), max(degree_list), sum(degree_list)/len(degree_list)"
   ]
  },
  {
   "cell_type": "code",
   "execution_count": 10,
   "metadata": {},
   "outputs": [
    {
     "data": {
      "text/plain": [
       "([7, 10, 15, 17, 19, 26, 36, 38, 42, 43], 1854, 1458)"
      ]
     },
     "execution_count": 10,
     "metadata": {},
     "output_type": "execute_result"
    }
   ],
   "source": [
    "# # 移除孤立节点0\n",
    "# remove_index = [i for i,e in enumerate(degree_list) if e == 0]\n",
    "\n",
    "# remove_index[:10], len(remove_index), len(degree_list)-len(remove_index)"
   ]
  },
  {
   "cell_type": "code",
   "execution_count": 21,
   "metadata": {},
   "outputs": [
    {
     "name": "stdout",
     "output_type": "stream",
     "text": [
      "节点数： 3312 3312\n",
      "X dim: torch.Size([3312, 3703])\n",
      "labels: 4\n"
     ]
    }
   ],
   "source": [
    "# # 设置随机种子，以确保结果可复现\n",
    "random_seed = 42\n",
    "\n",
    "# node_idx = [i for i in range(data['num_vertices']) if i not in remove_index]\n",
    "\n",
    "node_idx = [i for i in range(data['num_vertices'])]\n",
    "labels = data[\"labels\"][node_idx]\n",
    "y = list(labels.numpy())\n",
    "print('节点数：', len(node_idx), len(y))\n",
    "\n",
    "X = data[\"features\"][node_idx,:]\n",
    "lbls = data[\"labels\"][y]\n",
    "print('X dim:', X.shape)\n",
    "print('labels:', len(torch.unique(lbls)))\n",
    "\n",
    "degree_list = [degree_list[i] for i in node_idx]\n",
    "\n",
    "# def map_to_continuous(lst):\n",
    "#     unique_values = list(set(lst))\n",
    "#     value_to_index = {value: index for index, value in enumerate(sorted(unique_values))}\n",
    "#     mapped_lst = [value_to_index[value] for value in lst]\n",
    "#     return mapped_lst\n",
    "\n",
    "# node_idx = map_to_continuous(node_idx)\n",
    "# print('节点：', max(node_idx))\n",
    "\n",
    "# 将idx_test划分为训练（80%）、验证（10%）和测试（10%）集\n",
    "idx_train, idx_temp, train_y, tem_y = train_test_split(node_idx, y, test_size=0.2, random_state=random_seed, stratify=y)\n",
    "idx_val, idx_test, val_y, test_y = train_test_split(idx_temp, tem_y, test_size=0.5, random_state=random_seed, stratify=tem_y)\n",
    "\n",
    "# 确保划分后的集合没有重叠\n",
    "assert len(set(idx_train) & set(idx_val)) == 0\n",
    "assert len(set(idx_train) & set(idx_test)) == 0\n",
    "assert len(set(idx_val) & set(idx_test)) == 0\n",
    "\n",
    "train_mask = torch.zeros(len(node_idx), dtype=torch.bool)\n",
    "val_mask = torch.zeros(len(node_idx), dtype=torch.bool)\n",
    "test_mask = torch.zeros(len(node_idx), dtype=torch.bool)\n",
    "train_mask[idx_train] = True\n",
    "val_mask[idx_val] = True\n",
    "test_mask[idx_test] = True\n",
    "\n",
    "set_seed(42)\n",
    "device = torch.device(\"cuda\") if torch.cuda.is_available() else torch.device(\"cpu\")\n",
    "\n",
    "net = HGNN(X.shape[1], 64, data[\"num_classes\"], use_bn=True)\n",
    "optimizer = optim.Adam(net.parameters(), lr=0.01, weight_decay=5e-4)\n",
    "\n",
    "X, lbls = X.to(device), lbls.to(device)\n",
    "G = G.to(device)\n",
    "net = net.to(device)"
   ]
  },
  {
   "cell_type": "code",
   "execution_count": 22,
   "metadata": {},
   "outputs": [
    {
     "data": {
      "text/plain": [
       "(0, 449, 4.488224637681159)"
      ]
     },
     "execution_count": 22,
     "metadata": {},
     "output_type": "execute_result"
    }
   ],
   "source": [
    "min(degree_list), max(degree_list),sum(degree_list)/len(degree_list)"
   ]
  },
  {
   "cell_type": "code",
   "execution_count": 23,
   "metadata": {},
   "outputs": [
    {
     "data": {
      "image/png": "[encoded data removed]",
      "text/plain": [
       "<Figure size 640x480 with 1 Axes>"
      ]
     },
     "metadata": {},
     "output_type": "display_data"
    }
   ],
   "source": [
    "import matplotlib.pyplot as plt\n",
    "from collections import Counter\n",
    "\n",
    "# 使用Counter计算值的分布\n",
    "degree_distribution = Counter(degree_list)\n",
    "\n",
    "# 提取度数和对应的出现次数\n",
    "degrees, counts = zip(*degree_distribution.items())\n",
    "\n",
    "# 计算占比\n",
    "total_counts = sum(counts)\n",
    "proportions = [count / total_counts for count in counts]\n",
    "\n",
    "# 创建柱状图\n",
    "plt.bar(degrees, proportions, align='center')\n",
    "\n",
    "# 添加标签和标题\n",
    "plt.xlabel('Degree')\n",
    "plt.ylabel('Proportion')\n",
    "plt.title('Degree Distribution')\n",
    "\n",
    "# 显示图形\n",
    "plt.show()\n"
   ]
  },
  {
   "cell_type": "code",
   "execution_count": 24,
   "metadata": {},
   "outputs": [
    {
     "data": {
      "image/png": "[encoded data removed]",
      "text/plain": [
       "<Figure size 640x480 with 1 Axes>"
      ]
     },
     "metadata": {},
     "output_type": "display_data"
    }
   ],
   "source": [
    "# 获取排名前5的度数和对应的出现次数\n",
    "top_degrees = sorted(degree_distribution.items(), key=lambda x: x[1], reverse=True)[:5]\n",
    "top_degrees, top_counts = zip(*top_degrees)\n",
    "\n",
    "\n",
    "\n",
    "# 计算占比\n",
    "top_total_counts = sum(top_counts)\n",
    "top_proportions = [count / top_total_counts for count in top_counts]\n",
    "\n",
    "\n",
    "# 创建柱状图\n",
    "plt.bar(top_degrees, top_proportions, color='blue', align='center')\n",
    "\n",
    "# 添加标签和标题\n",
    "plt.xlabel('Degree')\n",
    "plt.ylabel('Occurrences')\n",
    "plt.title('Top 5 Degree Distribution')\n",
    "\n",
    "# 显示图形\n",
    "plt.show()"
   ]
  },
  {
   "cell_type": "code",
   "execution_count": 5,
   "metadata": {},
   "outputs": [
    {
     "data": {
      "text/plain": [
       "HGNN(\n",
       "  (layers): ModuleList(\n",
       "    (0): HGNNConv(\n",
       "      (bn): BatchNorm1d(64, eps=1e-05, momentum=0.1, affine=True, track_running_stats=True)\n",
       "      (act): ReLU(inplace=True)\n",
       "      (drop): Dropout(p=0.5, inplace=False)\n",
       "      (theta): Linear(in_features=3703, out_features=64, bias=True)\n",
       "    )\n",
       "    (1): HGNNConv(\n",
       "      (bn): BatchNorm1d(6, eps=1e-05, momentum=0.1, affine=True, track_running_stats=True)\n",
       "      (act): ReLU(inplace=True)\n",
       "      (drop): Dropout(p=0.5, inplace=False)\n",
       "      (theta): Linear(in_features=64, out_features=6, bias=True)\n",
       "    )\n",
       "  )\n",
       ")"
      ]
     },
     "execution_count": 5,
     "metadata": {},
     "output_type": "execute_result"
    }
   ],
   "source": [
    "net.load_state_dict(torch.load('model/hgnn_cocitationciteseer_hid64_2hop.pth'))\n",
    "net"
   ]
  },
  {
   "cell_type": "code",
   "execution_count": 6,
   "metadata": {},
   "outputs": [],
   "source": [
    "#Validate and Test\n",
    "net.eval()\n",
    "output = net(X, G)\n",
    "\n",
    "\n",
    "outs, lbl = output[idx_test], labels[idx_test]\n",
    "\n",
    "output = torch.log_softmax(output, dim=1)\n",
    "\n",
    "# Calculate accuracy\n",
    "_, predicted = torch.max(outs, 1)\n",
    "# 将predicted结果转换为numpy数组\n",
    "predicted_array = predicted.cpu().numpy()\n",
    "\n",
    "# 保存到文件\n",
    "np.savetxt('res/hgnn_test_cocitationciteseer_hid64_2hop_0104.txt', predicted_array, fmt='%d')"
   ]
  },
  {
   "cell_type": "code",
   "execution_count": 7,
   "metadata": {},
   "outputs": [
    {
     "data": {
      "text/plain": [
       "[0.05555555555555555, 0.23529411764705882, 0.1111111111111111]"
      ]
     },
     "execution_count": 7,
     "metadata": {},
     "output_type": "execute_result"
    }
   ],
   "source": [
    "# 从文件中读取预测结果\n",
    "predicted_array = np.loadtxt('res/hgnn_test_cocitationciteseer_hid64_2hop_0104.txt', dtype=int)\n",
    "# 将numpy数组转换为列表\n",
    "predicted_labels = predicted_array.tolist()\n",
    "true_labels = lbls[test_mask].cpu().numpy().tolist()\n",
    "\n",
    "\n",
    "predicted_labels = np.array(predicted_labels)\n",
    "true_labels = np.array(true_labels)\n",
    "# 计算每个节点的True and False Predictions\n",
    "trues = (predicted_labels == true_labels).astype(int)\n",
    "errors = [1 if value == 0 else 0 for value in trues]\n",
    "\n",
    "degree_counts = {}\n",
    "filtered_data = [(degree, value1, value2) for degree, value1, value2 in zip(degree_list, trues, errors) if 2 <= degree <= 4]\n",
    "\n",
    "# Populate the dictionary\n",
    "for degree, value1, value2 in filtered_data:\n",
    "    if degree not in degree_counts:\n",
    "        degree_counts[degree] = {'ones': 0, 'zeros': 0, 'total': 0}\n",
    "    degree_counts[degree]['ones'] += value1\n",
    "    degree_counts[degree]['zeros'] += value2\n",
    "    degree_counts[degree]['total'] += 1\n",
    "\n",
    "# Calculate the probabilities\n",
    "hgnn_degree_probabilities_list1 = [degree_counts.get(degree, {'ones': 0})['ones'] / degree_counts.get(degree, {'total': 1})['total'] for degree in range(2,5)]\n",
    "# hgnn_degree_probabilities_list2 = [degree_counts.get(degree, {'zeros': 0})['zeros'] / degree_counts.get(degree, {'total': 1})['total'] for degree in range(1,6)]\n",
    "hgnn_degree_probabilities_list1"
   ]
  },
  {
   "cell_type": "code",
   "execution_count": null,
   "metadata": {},
   "outputs": [],
   "source": [
    "remove_index = [i for i,e in enumerate(degree_sequence) if e == 0]\n",
    "\n",
    "remove_index[:10], len(remove_index), len(degree_sequence)-len(remove_index)"
   ]
  }
 ],
 "metadata": {
  "kernelspec": {
   "display_name": "hy",
   "language": "python",
   "name": "python3"
  },
  "language_info": {
   "codemirror_mode": {
    "name": "ipython",
    "version": 3
   },
   "file_extension": ".py",
   "mimetype": "text/x-python",
   "name": "python",
   "nbconvert_exporter": "python",
   "pygments_lexer": "ipython3",
   "version": "3.9.18"
  }
 },
 "nbformat": 4,
 "nbformat_minor": 2
}
