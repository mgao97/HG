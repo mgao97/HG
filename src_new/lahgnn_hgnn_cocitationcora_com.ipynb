{
 "cells": [
  {
   "cell_type": "code",
   "execution_count": 1,
   "metadata": {},
   "outputs": [
    {
     "name": "stderr",
     "output_type": "stream",
     "text": [
      "/users/Min/miniconda/envs/hyper/lib/python3.9/site-packages/tqdm/auto.py:21: TqdmWarning: IProgress not found. Please update jupyter and ipywidgets. See https://ipywidgets.readthedocs.io/en/stable/user_install.html\n",
      "  from .autonotebook import tqdm as notebook_tqdm\n"
     ]
    }
   ],
   "source": [
    "import numpy as np\n",
    "import torch\n",
    "import torch.optim as optim\n",
    "import torch.nn.functional as F\n",
    "import matplotlib.pyplot as plt\n",
    "from sklearn.metrics import accuracy_score, f1_score\n",
    "# import matplotlib.pyplot as plt\n",
    "# from sklearn.metrics import accuracy_score, f1_score\n",
    "from dhg import Hypergraph\n",
    "from dhg.data import *\n",
    "from dhg.models import *\n",
    "from dhg.random import set_seed\n",
    "from sklearn.model_selection import train_test_split\n",
    "\n",
    "\n",
    "import matplotlib.pyplot as plt\n",
    "from sklearn.metrics import accuracy_score, f1_score\n"
   ]
  },
  {
   "cell_type": "code",
   "execution_count": 2,
   "metadata": {},
   "outputs": [
    {
     "name": "stdout",
     "output_type": "stream",
     "text": [
      "Hypergraph(num_v=2708, num_e=1483)\n",
      "X dim: torch.Size([2708, 1433])\n",
      "labels: 7\n"
     ]
    }
   ],
   "source": [
    "\n",
    "data = CocitationCora()\n",
    "G = Hypergraph(data[\"num_vertices\"], data[\"edge_list\"])\n",
    "print(G)\n",
    "\n",
    "\n",
    "A = G.H @ G.H.T\n",
    "# print(A)\n",
    "\n",
    "# 将稀疏张量转换为标准的邻接矩阵表示\n",
    "adj_matrix = torch.sparse_coo_tensor(A.indices(), A.values(), A.size())\n",
    "\n",
    "# 计算每个节点的度\n",
    "degree_list = adj_matrix.to_dense().sum(dim=1)\n",
    "degree_list = degree_list.cpu().numpy().tolist()\n",
    "\n",
    "\n",
    "# # 设置随机种子，以确保结果可复现\n",
    "random_seed = 42\n",
    "\n",
    "node_idx = [i for i in range(data['num_vertices'])]\n",
    "# 将idx_test划分为训练（50%）、验证（25%）和测试（25%）集\n",
    "idx_train, idx_temp = train_test_split(node_idx, test_size=0.5, random_state=random_seed)\n",
    "idx_val, idx_test = train_test_split(idx_temp, test_size=0.5, random_state=random_seed)\n",
    "\n",
    "# 确保划分后的集合没有重叠\n",
    "assert len(set(idx_train) & set(idx_val)) == 0\n",
    "assert len(set(idx_train) & set(idx_test)) == 0\n",
    "assert len(set(idx_val) & set(idx_test)) == 0\n",
    "\n",
    "train_mask = torch.zeros(data['num_vertices'], dtype=torch.bool)\n",
    "val_mask = torch.zeros(data['num_vertices'], dtype=torch.bool)\n",
    "test_mask = torch.zeros(data['num_vertices'], dtype=torch.bool)\n",
    "train_mask[idx_train] = True\n",
    "val_mask[idx_val] = True\n",
    "test_mask[idx_test] = True\n",
    "\n",
    "\n",
    "v_deg= G.D_v\n",
    "\n",
    "# X = v_deg.to_dense()/torch.max(v_deg.to_dense())\n",
    "X = data[\"features\"]\n",
    "lbls = data[\"labels\"]\n",
    "print('X dim:', X.shape)\n",
    "print('labels:', len(torch.unique(lbls)))\n",
    "\n",
    "\n",
    "set_seed(42)\n",
    "device = torch.device(\"cuda\") if torch.cuda.is_available() else torch.device(\"cpu\")\n",
    "\n",
    "net = HGNN(X.shape[1], 32, data[\"num_classes\"], use_bn=True)\n",
    "optimizer = optim.Adam(net.parameters(), lr=0.005, weight_decay=5e-4)\n",
    "\n",
    "X, lbls = X.to(device), lbls.to(device)\n",
    "G = G.to(device)\n",
    "net = net.to(device)"
   ]
  },
  {
   "cell_type": "code",
   "execution_count": 4,
   "metadata": {},
   "outputs": [],
   "source": [
    "\n",
    "# 从文件中读取预测结果\n",
    "predicted_array = np.loadtxt('res/predicted_cocitationcora.txt', dtype=int)\n",
    "# 将numpy数组转换为列表\n",
    "predicted_labels = predicted_array.tolist()\n",
    "true_labels = lbls[test_mask].cpu().numpy().tolist()\n",
    "\n",
    "\n",
    "predicted_labels = np.array(predicted_labels)\n",
    "true_labels = np.array(true_labels)\n",
    "# 计算每个节点的ACC\n",
    "trues = (predicted_labels == true_labels).astype(int)\n",
    "errors = [1 if value == 0 else 0 for value in trues]\n",
    "\n",
    "degree_counts = {}\n",
    "filtered_data = [(degree, value1, value2) for degree, value1, value2 in zip(degree_list, trues, errors) if 0 <= degree <= 3]\n",
    "\n",
    "# Populate the dictionary\n",
    "for degree, value1, value2 in filtered_data:\n",
    "    if degree not in degree_counts:\n",
    "        degree_counts[degree] = {'ones': 0, 'zeros': 0, 'total': 0}\n",
    "    degree_counts[degree]['ones'] += value1\n",
    "    degree_counts[degree]['zeros'] += value2\n",
    "    degree_counts[degree]['total'] += 1\n",
    "\n",
    "# Calculate the probabilities\n",
    "hgnn_degree_probabilities_list1 = [degree_counts.get(degree, {'ones': 0})['ones'] / degree_counts.get(degree, {'total': 1})['total'] for degree in range(1,4)]\n",
    "# hgnn_degree_probabilities_list2 = [degree_counts.get(degree, {'zeros': 0})['zeros'] / degree_counts.get(degree, {'total': 1})['total'] for degree in range(1,6)]\n"
   ]
  },
  {
   "cell_type": "code",
   "execution_count": 5,
   "metadata": {},
   "outputs": [
    {
     "ename": "ValueError",
     "evalue": "operands could not be broadcast together with shapes (542,) (677,) ",
     "output_type": "error",
     "traceback": [
      "\u001b[0;31m---------------------------------------------------------------------------\u001b[0m",
      "\u001b[0;31mValueError\u001b[0m                                Traceback (most recent call last)",
      "\u001b[1;32m/users/Min/HyperGCL/src/lahgnn_hgnn_cocitationcora_com.ipynb 单元格 4\u001b[0m line \u001b[0;36m1\n\u001b[1;32m      <a href='vscode-notebook-cell://ssh-remote%2B7b22686f73744e616d65223a22736d313130702d31307331303630312e776973632e636c6f75646c61622e7573222c2275736572223a224d696e227d/users/Min/HyperGCL/src/lahgnn_hgnn_cocitationcora_com.ipynb#W4sdnNjb2RlLXJlbW90ZQ%3D%3D?line=8'>9</a>\u001b[0m true_labels \u001b[39m=\u001b[39m np\u001b[39m.\u001b[39marray(true_labels)\n\u001b[1;32m     <a href='vscode-notebook-cell://ssh-remote%2B7b22686f73744e616d65223a22736d313130702d31307331303630312e776973632e636c6f75646c61622e7573222c2275736572223a224d696e227d/users/Min/HyperGCL/src/lahgnn_hgnn_cocitationcora_com.ipynb#W4sdnNjb2RlLXJlbW90ZQ%3D%3D?line=9'>10</a>\u001b[0m \u001b[39m# 计算每个节点的ACC\u001b[39;00m\n\u001b[0;32m---> <a href='vscode-notebook-cell://ssh-remote%2B7b22686f73744e616d65223a22736d313130702d31307331303630312e776973632e636c6f75646c61622e7573222c2275736572223a224d696e227d/users/Min/HyperGCL/src/lahgnn_hgnn_cocitationcora_com.ipynb#W4sdnNjb2RlLXJlbW90ZQ%3D%3D?line=10'>11</a>\u001b[0m trues \u001b[39m=\u001b[39m (predicted_labels \u001b[39m==\u001b[39;49m true_labels)\u001b[39m.\u001b[39mastype(\u001b[39mint\u001b[39m)\n\u001b[1;32m     <a href='vscode-notebook-cell://ssh-remote%2B7b22686f73744e616d65223a22736d313130702d31307331303630312e776973632e636c6f75646c61622e7573222c2275736572223a224d696e227d/users/Min/HyperGCL/src/lahgnn_hgnn_cocitationcora_com.ipynb#W4sdnNjb2RlLXJlbW90ZQ%3D%3D?line=11'>12</a>\u001b[0m errors \u001b[39m=\u001b[39m [\u001b[39m1\u001b[39m \u001b[39mif\u001b[39;00m value \u001b[39m==\u001b[39m \u001b[39m0\u001b[39m \u001b[39melse\u001b[39;00m \u001b[39m0\u001b[39m \u001b[39mfor\u001b[39;00m value \u001b[39min\u001b[39;00m trues]\n\u001b[1;32m     <a href='vscode-notebook-cell://ssh-remote%2B7b22686f73744e616d65223a22736d313130702d31307331303630312e776973632e636c6f75646c61622e7573222c2275736572223a224d696e227d/users/Min/HyperGCL/src/lahgnn_hgnn_cocitationcora_com.ipynb#W4sdnNjb2RlLXJlbW90ZQ%3D%3D?line=13'>14</a>\u001b[0m lahgnn_degree_counts \u001b[39m=\u001b[39m {}\n",
      "\u001b[0;31mValueError\u001b[0m: operands could not be broadcast together with shapes (542,) (677,) "
     ]
    }
   ],
   "source": [
    "\n",
    "# 从文件中读取预测结果\n",
    "predicted_array = np.loadtxt('res/lahgnn_predicted_cocitationcora.txt', dtype=int)\n",
    "# 将numpy数组转换为列表\n",
    "predicted_labels = predicted_array.tolist()\n",
    "true_labels = lbls[test_mask].cpu().numpy().tolist()\n",
    "\n",
    "\n",
    "predicted_labels = np.array(predicted_labels)\n",
    "true_labels = np.array(true_labels)\n",
    "# 计算每个节点的ACC\n",
    "trues = (predicted_labels == true_labels).astype(int)\n",
    "errors = [1 if value == 0 else 0 for value in trues]\n",
    "\n",
    "lahgnn_degree_counts = {}\n",
    "filtered_data = [(degree, value1, value2) for degree, value1, value2 in zip(degree_list, trues, errors) if 0 <= degree <= 3]\n",
    "\n",
    "# Populate the dictionary\n",
    "for degree, value1, value2 in filtered_data:\n",
    "    if degree not in degree_counts:\n",
    "        degree_counts[degree] = {'ones': 0, 'zeros': 0, 'total': 0}\n",
    "    lahgnn_degree_counts[degree]['ones'] += value1\n",
    "    lahgnn_degree_counts[degree]['zeros'] += value2\n",
    "    lahgnn_degree_counts[degree]['total'] += 1\n",
    "\n",
    "# Calculate the probabilities\n",
    "lahgnn_degree_probabilities_list1 = [degree_counts.get(degree, {'ones': 0})['ones'] / degree_counts.get(degree, {'total': 1})['total'] for degree in range(1,4)]\n",
    "# hgnn_degree_probabilities_list2 = [degree_counts.get(degree, {'zeros': 0})['zeros'] / degree_counts.get(degree, {'total': 1})['total'] for degree in range(1,4)]\n"
   ]
  },
  {
   "cell_type": "code",
   "execution_count": 11,
   "metadata": {},
   "outputs": [
    {
     "name": "stdout",
     "output_type": "stream",
     "text": [
      "[0.0, 2.0, 3.0, 4.0, 5.0]\n"
     ]
    }
   ],
   "source": [
    "# 使用 sorted 函数进行排序\n",
    "sorted_list = sorted(list(set((sorted(degree_list)))))\n",
    "\n",
    "# 输出排序后的列表\n",
    "print(sorted_list[:5])"
   ]
  },
  {
   "cell_type": "code",
   "execution_count": 12,
   "metadata": {},
   "outputs": [
    {
     "name": "stdout",
     "output_type": "stream",
     "text": [
      "0.0 405.0\n"
     ]
    },
    {
     "data": {
      "text/plain": [
       "[0.02326440177252585,\n",
       " 0.4704579025110783,\n",
       " 0.014401772525849335,\n",
       " 0.06683899556868537,\n",
       " 0.05945347119645495,\n",
       " 0.06462333825701624,\n",
       " 0.0011078286558345643,\n",
       " 0.0048005908419497785,\n",
       " 0.014401772525849335,\n",
       " 0.0568685376661743,\n",
       " 0.02031019202363368,\n",
       " 0.004431314623338257,\n",
       " 0.014771048744460856,\n",
       " 0.03508124076809453,\n",
       " 0.001846381093057607,\n",
       " 0.0258493353028065,\n",
       " 0.009601181683899557,\n",
       " 0.0051698670605613,\n",
       " 0.00036927621861152144,\n",
       " 0.0066469719350073855,\n",
       " 0.003692762186115214,\n",
       " 0.0007385524372230429,\n",
       " 0.00036927621861152144,\n",
       " 0.024741506646971934,\n",
       " 0.004431314623338257,\n",
       " 0.005908419497784343,\n",
       " 0.005908419497784343,\n",
       " 0.0007385524372230429,\n",
       " 0.00036927621861152144,\n",
       " 0.0007385524372230429,\n",
       " 0.00036927621861152144,\n",
       " 0.0011078286558345643,\n",
       " 0.001846381093057607,\n",
       " 0.00258493353028065,\n",
       " 0.001846381093057607,\n",
       " 0.0066469719350073855,\n",
       " 0.004062038404726735,\n",
       " 0.00036927621861152144,\n",
       " 0.009601181683899557,\n",
       " 0.00036927621861152144,\n",
       " 0.00036927621861152144,\n",
       " 0.00036927621861152144,\n",
       " 0.0011078286558345643,\n",
       " 0.0007385524372230429,\n",
       " 0.0007385524372230429,\n",
       " 0.0014771048744460858,\n",
       " 0.00036927621861152144,\n",
       " 0.0033234859675036928,\n",
       " 0.00036927621861152144,\n",
       " 0.00036927621861152144,\n",
       " 0.001846381093057607,\n",
       " 0.00036927621861152144,\n",
       " 0.00036927621861152144,\n",
       " 0.00036927621861152144,\n",
       " 0.00036927621861152144,\n",
       " 0.0014771048744460858,\n",
       " 0.00036927621861152144,\n",
       " 0.0011078286558345643,\n",
       " 0.00036927621861152144,\n",
       " 0.00036927621861152144,\n",
       " 0.00036927621861152144,\n",
       " 0.00036927621861152144,\n",
       " 0.00036927621861152144,\n",
       " 0.0022156573116691287,\n",
       " 0.0011078286558345643,\n",
       " 0.00036927621861152144,\n",
       " 0.00036927621861152144,\n",
       " 0.00036927621861152144,\n",
       " 0.0007385524372230429,\n",
       " 0.00036927621861152144,\n",
       " 0.00036927621861152144]"
      ]
     },
     "execution_count": 12,
     "metadata": {},
     "output_type": "execute_result"
    }
   ],
   "source": [
    "from collections import Counter\n",
    "# 使用 Counter 统计度值的频数\n",
    "degree_counts = Counter(degree_list)\n",
    "print(min(degree_list),max(degree_list))\n",
    "# 计算每个度值对应的比例\n",
    "total_nodes = len(degree_list)\n",
    "degree_probabilities = {degree: count / total_nodes for degree, count in degree_counts.items()}\n",
    "\n",
    "ratio_num_neighbors = list(degree_probabilities.values())\n",
    "ratio_num_neighbors"
   ]
  },
  {
   "cell_type": "code",
   "execution_count": null,
   "metadata": {},
   "outputs": [],
   "source": [
    "\n",
    "# Plot the results\n",
    "width = 0.35\n",
    "fig, ax = plt.subplots(figsize=(8, 6))\n",
    "ax.bar(np.arange(1,6), hgnn_degree_probabilities_list1, width, label='Ratio of True Predictions by HGNN model', color='#FFA2A5', edgecolor='#FF0000',alpha=0.7)\n",
    "ax.bar(np.arange(1,6), lahgnn_degree_probabilities_list1, width, label='Ratio of False Predictions by GA-HGNN model', color='#A7A7FF', edgecolor='#0000FF',alpha=0.7, bottom=hgnn_degree_probabilities_list1)\n",
    "ax.set_xlabel('Number of neighbor nodes (1-3)')\n",
    "ax.set_ylabel('Probability')\n",
    "ax.grid(True, linestyle='--', alpha=0.5)\n",
    "# ax.set_title('Ratio distribution of True and False predictions')\n",
    "ax.legend(fontsize=12)\n",
    "plt.savefig('figs/gahgnn_hgnn_deg_acc_cocitationcora.pdf')"
   ]
  },
  {
   "cell_type": "code",
   "execution_count": null,
   "metadata": {},
   "outputs": [],
   "source": []
  },
  {
   "cell_type": "code",
   "execution_count": null,
   "metadata": {},
   "outputs": [],
   "source": [
    "import matplotlib.pyplot as plt\n",
    "import numpy as np\n",
    "\n",
    "# 第一组数据\n",
    "x1 = np.array([1, 2, 3])\n",
    "ratio1 = np.array(ratio_num_neighbors[1:4])\n",
    "accuracy1 = np.array(hgnn_degree_probabilities_list1)\n",
    "\n",
    "# 第二组数据\n",
    "x2 = np.array([1, 2, 3])\n",
    "accuracy2 = np.array(lahgnn_degree_probabilities_list1)\n",
    "\n",
    "fig, ax1 = plt.subplots()\n",
    "# 绘制第一组柱状图（左边）\n",
    "ax1.set_xlabel('Number of neighbor nodes (1-3)')\n",
    "ax1.set_ylabel('Percentage(%)')\n",
    "\n",
    "ax1.bar(x1, ratio1, color='#4995c6', align='center', label='Percentage')\n",
    "# ax1.tick_params(axis='y', labelcolor='tab:blue')\n",
    "\n",
    "# 绘制第二组柱状图（左边）\n",
    "# ax1.bar(x2 + 0.2, quantity1, width=0.4, color='tab:green', align='center', label='Quantity 2')\n",
    "\n",
    "# 创建第二个纵坐标轴（右边）\n",
    "ax2 = ax1.twinx()\n",
    "ax2.set_ylabel('True Predictions')\n",
    "ax2.plot(x1, accuracy1, marker='o', color='#FAbb61', alpha=0.7, linestyle='-', linewidth=2, markersize=8, label='HGNN')\n",
    "ax2.plot(x2, accuracy2, marker='s', color='#Addb88', alpha=0.7, linestyle='--', linewidth=2, markersize=8, label='GA-HGNN')\n",
    "# ax2.tick_params(axis='y', labelcolor='tab:red')\n",
    "\n",
    "fig.tight_layout()\n",
    "plt.legend()\n",
    "plt.show()"
   ]
  },
  {
   "cell_type": "markdown",
   "metadata": {},
   "source": [
    "#### hidden size param ana"
   ]
  },
  {
   "cell_type": "code",
   "execution_count": 16,
   "metadata": {},
   "outputs": [
    {
     "ename": "ValueError",
     "evalue": "shape mismatch: objects cannot be broadcast to a single shape.  Mismatch is between arg 0 with shape (4,) and arg 1 with shape (2,).",
     "output_type": "error",
     "traceback": [
      "\u001b[0;31m---------------------------------------------------------------------------\u001b[0m",
      "\u001b[0;31mValueError\u001b[0m                                Traceback (most recent call last)",
      "\u001b[1;32m/users/Min/HyperGCL/src/lahgnn_hgnn_cocitationcora_com.ipynb 单元格 11\u001b[0m line \u001b[0;36m3\n\u001b[1;32m     <a href='vscode-notebook-cell://ssh-remote%2B7b22686f73744e616d65223a22736d313130702d31307331303630312e776973632e636c6f75646c61622e7573222c2275736572223a224d696e227d/users/Min/HyperGCL/src/lahgnn_hgnn_cocitationcora_com.ipynb#X15sdnNjb2RlLXJlbW90ZQ%3D%3D?line=34'>35</a>\u001b[0m x \u001b[39m=\u001b[39m np\u001b[39m.\u001b[39marange(\u001b[39mlen\u001b[39m(categories))  \u001b[39m# x 轴坐标位置\u001b[39;00m\n\u001b[1;32m     <a href='vscode-notebook-cell://ssh-remote%2B7b22686f73744e616d65223a22736d313130702d31307331303630312e776973632e636c6f75646c61622e7573222c2275736572223a224d696e227d/users/Min/HyperGCL/src/lahgnn_hgnn_cocitationcora_com.ipynb#X15sdnNjb2RlLXJlbW90ZQ%3D%3D?line=36'>37</a>\u001b[0m \u001b[39mfor\u001b[39;00m i \u001b[39min\u001b[39;00m \u001b[39mrange\u001b[39m(\u001b[39mlen\u001b[39m(data)):\n\u001b[0;32m---> <a href='vscode-notebook-cell://ssh-remote%2B7b22686f73744e616d65223a22736d313130702d31307331303630312e776973632e636c6f75646c61622e7573222c2275736572223a224d696e227d/users/Min/HyperGCL/src/lahgnn_hgnn_cocitationcora_com.ipynb#X15sdnNjb2RlLXJlbW90ZQ%3D%3D?line=37'>38</a>\u001b[0m     ax\u001b[39m.\u001b[39;49mbar(x \u001b[39m+\u001b[39;49m (i \u001b[39m-\u001b[39;49m (num_datasets \u001b[39m-\u001b[39;49m \u001b[39m1\u001b[39;49m) \u001b[39m/\u001b[39;49m \u001b[39m2\u001b[39;49m) \u001b[39m*\u001b[39;49m width, data[i], width, label\u001b[39m=\u001b[39;49mlabels[i], color\u001b[39m=\u001b[39;49mcolors[i])\n\u001b[1;32m     <a href='vscode-notebook-cell://ssh-remote%2B7b22686f73744e616d65223a22736d313130702d31307331303630312e776973632e636c6f75646c61622e7573222c2275736572223a224d696e227d/users/Min/HyperGCL/src/lahgnn_hgnn_cocitationcora_com.ipynb#X15sdnNjb2RlLXJlbW90ZQ%3D%3D?line=40'>41</a>\u001b[0m \u001b[39m# ax.set_xlabel('Categories')\u001b[39;00m\n\u001b[1;32m     <a href='vscode-notebook-cell://ssh-remote%2B7b22686f73744e616d65223a22736d313130702d31307331303630312e776973632e636c6f75646c61622e7573222c2275736572223a224d696e227d/users/Min/HyperGCL/src/lahgnn_hgnn_cocitationcora_com.ipynb#X15sdnNjb2RlLXJlbW90ZQ%3D%3D?line=41'>42</a>\u001b[0m \u001b[39m# ax.set_ylabel('Values')\u001b[39;00m\n\u001b[1;32m     <a href='vscode-notebook-cell://ssh-remote%2B7b22686f73744e616d65223a22736d313130702d31307331303630312e776973632e636c6f75646c61622e7573222c2275736572223a224d696e227d/users/Min/HyperGCL/src/lahgnn_hgnn_cocitationcora_com.ipynb#X15sdnNjb2RlLXJlbW90ZQ%3D%3D?line=42'>43</a>\u001b[0m \u001b[39m# ax.set_title('Comparison of A, B, C, and D')\u001b[39;00m\n\u001b[1;32m     <a href='vscode-notebook-cell://ssh-remote%2B7b22686f73744e616d65223a22736d313130702d31307331303630312e776973632e636c6f75646c61622e7573222c2275736572223a224d696e227d/users/Min/HyperGCL/src/lahgnn_hgnn_cocitationcora_com.ipynb#X15sdnNjb2RlLXJlbW90ZQ%3D%3D?line=43'>44</a>\u001b[0m ax\u001b[39m.\u001b[39mset_xticks(x \u001b[39m+\u001b[39m width \u001b[39m*\u001b[39m (\u001b[39mlen\u001b[39m(values) \u001b[39m-\u001b[39m \u001b[39m1\u001b[39m) \u001b[39m/\u001b[39m \u001b[39m2\u001b[39m)\n",
      "File \u001b[0;32m~/miniconda/envs/hyper/lib/python3.9/site-packages/matplotlib/__init__.py:1465\u001b[0m, in \u001b[0;36m_preprocess_data.<locals>.inner\u001b[0;34m(ax, data, *args, **kwargs)\u001b[0m\n\u001b[1;32m   1462\u001b[0m \u001b[39m@functools\u001b[39m\u001b[39m.\u001b[39mwraps(func)\n\u001b[1;32m   1463\u001b[0m \u001b[39mdef\u001b[39;00m \u001b[39minner\u001b[39m(ax, \u001b[39m*\u001b[39margs, data\u001b[39m=\u001b[39m\u001b[39mNone\u001b[39;00m, \u001b[39m*\u001b[39m\u001b[39m*\u001b[39mkwargs):\n\u001b[1;32m   1464\u001b[0m     \u001b[39mif\u001b[39;00m data \u001b[39mis\u001b[39;00m \u001b[39mNone\u001b[39;00m:\n\u001b[0;32m-> 1465\u001b[0m         \u001b[39mreturn\u001b[39;00m func(ax, \u001b[39m*\u001b[39;49m\u001b[39mmap\u001b[39;49m(sanitize_sequence, args), \u001b[39m*\u001b[39;49m\u001b[39m*\u001b[39;49mkwargs)\n\u001b[1;32m   1467\u001b[0m     bound \u001b[39m=\u001b[39m new_sig\u001b[39m.\u001b[39mbind(ax, \u001b[39m*\u001b[39margs, \u001b[39m*\u001b[39m\u001b[39m*\u001b[39mkwargs)\n\u001b[1;32m   1468\u001b[0m     auto_label \u001b[39m=\u001b[39m (bound\u001b[39m.\u001b[39marguments\u001b[39m.\u001b[39mget(label_namer)\n\u001b[1;32m   1469\u001b[0m                   \u001b[39mor\u001b[39;00m bound\u001b[39m.\u001b[39mkwargs\u001b[39m.\u001b[39mget(label_namer))\n",
      "File \u001b[0;32m~/miniconda/envs/hyper/lib/python3.9/site-packages/matplotlib/axes/_axes.py:2457\u001b[0m, in \u001b[0;36mAxes.bar\u001b[0;34m(self, x, height, width, bottom, align, **kwargs)\u001b[0m\n\u001b[1;32m   2454\u001b[0m     \u001b[39mif\u001b[39;00m yerr \u001b[39mis\u001b[39;00m \u001b[39mnot\u001b[39;00m \u001b[39mNone\u001b[39;00m:\n\u001b[1;32m   2455\u001b[0m         yerr \u001b[39m=\u001b[39m \u001b[39mself\u001b[39m\u001b[39m.\u001b[39m_convert_dx(yerr, y0, y, \u001b[39mself\u001b[39m\u001b[39m.\u001b[39mconvert_yunits)\n\u001b[0;32m-> 2457\u001b[0m x, height, width, y, linewidth, hatch \u001b[39m=\u001b[39m np\u001b[39m.\u001b[39;49mbroadcast_arrays(\n\u001b[1;32m   2458\u001b[0m     \u001b[39m# Make args iterable too.\u001b[39;49;00m\n\u001b[1;32m   2459\u001b[0m     np\u001b[39m.\u001b[39;49matleast_1d(x), height, width, y, linewidth, hatch)\n\u001b[1;32m   2461\u001b[0m \u001b[39m# Now that units have been converted, set the tick locations.\u001b[39;00m\n\u001b[1;32m   2462\u001b[0m \u001b[39mif\u001b[39;00m orientation \u001b[39m==\u001b[39m \u001b[39m'\u001b[39m\u001b[39mvertical\u001b[39m\u001b[39m'\u001b[39m:\n",
      "File \u001b[0;32m~/miniconda/envs/hyper/lib/python3.9/site-packages/numpy/lib/stride_tricks.py:540\u001b[0m, in \u001b[0;36mbroadcast_arrays\u001b[0;34m(subok, *args)\u001b[0m\n\u001b[1;32m    533\u001b[0m \u001b[39m# nditer is not used here to avoid the limit of 32 arrays.\u001b[39;00m\n\u001b[1;32m    534\u001b[0m \u001b[39m# Otherwise, something like the following one-liner would suffice:\u001b[39;00m\n\u001b[1;32m    535\u001b[0m \u001b[39m# return np.nditer(args, flags=['multi_index', 'zerosize_ok'],\u001b[39;00m\n\u001b[1;32m    536\u001b[0m \u001b[39m#                  order='C').itviews\u001b[39;00m\n\u001b[1;32m    538\u001b[0m args \u001b[39m=\u001b[39m [np\u001b[39m.\u001b[39marray(_m, copy\u001b[39m=\u001b[39m\u001b[39mFalse\u001b[39;00m, subok\u001b[39m=\u001b[39msubok) \u001b[39mfor\u001b[39;00m _m \u001b[39min\u001b[39;00m args]\n\u001b[0;32m--> 540\u001b[0m shape \u001b[39m=\u001b[39m _broadcast_shape(\u001b[39m*\u001b[39;49margs)\n\u001b[1;32m    542\u001b[0m \u001b[39mif\u001b[39;00m \u001b[39mall\u001b[39m(array\u001b[39m.\u001b[39mshape \u001b[39m==\u001b[39m shape \u001b[39mfor\u001b[39;00m array \u001b[39min\u001b[39;00m args):\n\u001b[1;32m    543\u001b[0m     \u001b[39m# Common case where nothing needs to be broadcasted.\u001b[39;00m\n\u001b[1;32m    544\u001b[0m     \u001b[39mreturn\u001b[39;00m args\n",
      "File \u001b[0;32m~/miniconda/envs/hyper/lib/python3.9/site-packages/numpy/lib/stride_tricks.py:422\u001b[0m, in \u001b[0;36m_broadcast_shape\u001b[0;34m(*args)\u001b[0m\n\u001b[1;32m    417\u001b[0m \u001b[39m\u001b[39m\u001b[39m\"\"\"Returns the shape of the arrays that would result from broadcasting the\u001b[39;00m\n\u001b[1;32m    418\u001b[0m \u001b[39msupplied arrays against each other.\u001b[39;00m\n\u001b[1;32m    419\u001b[0m \u001b[39m\"\"\"\u001b[39;00m\n\u001b[1;32m    420\u001b[0m \u001b[39m# use the old-iterator because np.nditer does not handle size 0 arrays\u001b[39;00m\n\u001b[1;32m    421\u001b[0m \u001b[39m# consistently\u001b[39;00m\n\u001b[0;32m--> 422\u001b[0m b \u001b[39m=\u001b[39m np\u001b[39m.\u001b[39;49mbroadcast(\u001b[39m*\u001b[39;49margs[:\u001b[39m32\u001b[39;49m])\n\u001b[1;32m    423\u001b[0m \u001b[39m# unfortunately, it cannot handle 32 or more arguments directly\u001b[39;00m\n\u001b[1;32m    424\u001b[0m \u001b[39mfor\u001b[39;00m pos \u001b[39min\u001b[39;00m \u001b[39mrange\u001b[39m(\u001b[39m32\u001b[39m, \u001b[39mlen\u001b[39m(args), \u001b[39m31\u001b[39m):\n\u001b[1;32m    425\u001b[0m     \u001b[39m# ironically, np.broadcast does not properly handle np.broadcast\u001b[39;00m\n\u001b[1;32m    426\u001b[0m     \u001b[39m# objects (it treats them as scalars)\u001b[39;00m\n\u001b[1;32m    427\u001b[0m     \u001b[39m# use broadcasting to avoid allocating the full array\u001b[39;00m\n",
      "\u001b[0;31mValueError\u001b[0m: shape mismatch: objects cannot be broadcast to a single shape.  Mismatch is between arg 0 with shape (4,) and arg 1 with shape (2,)."
     ]
    },
    {
     "data": {
      "image/png": "[encoded data removed]",
      "text/plain": [
       "<Figure size 640x480 with 1 Axes>"
      ]
     },
     "metadata": {},
     "output_type": "display_data"
    }
   ],
   "source": [
    "import matplotlib.pyplot as plt\n",
    "import numpy as np\n",
    "\n",
    "\n",
    "\n",
    "import seaborn as sns\n",
    "sns.set_palette(sns.color_palette('bwr')) #PuBuGn_r PuBu_r Set1_r YlGnBu_r bwr cool_r\n",
    "\n",
    "\n",
    "# 数据\n",
    "categories = [8, 16, 32,64]\n",
    "values = [\n",
    "    [0.5230, 0.5339, 0.5315, 0.5326],\n",
    "    [0.5025, 0.5086, 0.5073, 0.5086]\n",
    "]\n",
    "\n",
    "\n",
    "fig=plt.figure()\n",
    "\n",
    "plt.grid()\n",
    "ax = plt.gca()\n",
    "\n",
    "ax.grid(False)  # 删除网格线\n",
    "ax.spines['top'].set_color('#6D6E70')\n",
    "ax.spines['bottom'].set_color('#6D6E70')\n",
    "ax.spines['left'].set_color('#6D6E70')\n",
    "ax.spines['right'].set_color('#6D6E70')\n",
    "\n",
    "# 绘制柱形图\n",
    "colors = ['#FAbb61','#Addb88']\n",
    "labels = ['Accuracy', 'Macro-F1 Socre']\n",
    "data = list(zip(*values))\n",
    "num_datasets = len(data)\n",
    "width = 0.14  # 柱形的宽度\n",
    "x = np.arange(len(categories))  # x 轴坐标位置\n",
    "\n",
    "for i in range(len(data)):\n",
    "    ax.bar(x + (i - (num_datasets - 1) / 2) * width, data[i], width, label=labels[i], color=colors[i])\n",
    "\n",
    "\n",
    "# ax.set_xlabel('Categories')\n",
    "# ax.set_ylabel('Values')\n",
    "# ax.set_title('Comparison of A, B, C, and D')\n",
    "ax.set_xticks(x + width * (len(values) - 1) / 2)\n",
    "ax.set_xticklabels(categories)\n",
    "ax.legend()\n",
    "\n",
    "plt.xlabel('Hidden size', fontsize='large')\n",
    "plt.ylabel('Metrics', fontsize='large')\n",
    "plt.title('Results of GA-HGNN', fontsize='large', pad=10)\n",
    "\n",
    "plt.legend()\n",
    "plt.show()\n"
   ]
  },
  {
   "cell_type": "code",
   "execution_count": null,
   "metadata": {},
   "outputs": [],
   "source": []
  }
 ],
 "metadata": {
  "kernelspec": {
   "display_name": "hyper",
   "language": "python",
   "name": "python3"
  },
  "language_info": {
   "codemirror_mode": {
    "name": "ipython",
    "version": 3
   },
   "file_extension": ".py",
   "mimetype": "text/x-python",
   "name": "python",
   "nbconvert_exporter": "python",
   "pygments_lexer": "ipython3",
   "version": "3.9.18"
  }
 },
 "nbformat": 4,
 "nbformat_minor": 2
}
